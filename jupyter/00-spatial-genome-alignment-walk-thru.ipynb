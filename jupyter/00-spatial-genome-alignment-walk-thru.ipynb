{
 "cells": [
  {
   "cell_type": "code",
   "execution_count": 1,
   "id": "8f80b2e7",
   "metadata": {},
   "outputs": [],
   "source": [
    "import ipywidgets as wg\n",
    "import pandas as pd\n",
    "import matplotlib.pyplot as plt\n",
    "import numpy as np\n",
    "import igraph\n",
    "import copy\n",
    "\n",
    "from mpl_toolkits.mplot3d import Axes3D\n",
    "from IPython.display import Image\n",
    "\n",
    "from jie.demo import mock_experiment, error_types, polymer_model, polymer_skip, find_polymer\n",
    "\n",
    "from jie.aligner import (log_bond,\n",
    "                         find_chr,\n",
    "                         edge_weights,\n",
    "                         boundary_init)\n",
    "\n",
    "from jie.utilities import (cartesian_esqsum, \n",
    "                           cartesian_sqdiff, \n",
    "                           cartesian_diff, \n",
    "                           check_lp_wgaps,\n",
    "                           find_loci_dist)"
   ]
  },
  {
   "cell_type": "markdown",
   "id": "4a311ec8",
   "metadata": {},
   "source": [
    "## Demo\n",
    "- Say we put a haploid cell under the microscope, and perform multiplexed DNA-FISH\n",
    "    - Within one nucleus, we image 4 genes each separated by `5 kb`, all lying on the same chromosome\n",
    "    - We excite each labeled gene sequentially, quenching its signal before imaging the next gene:"
   ]
  },
  {
   "cell_type": "code",
   "execution_count": 2,
   "id": "1fd2fbd3",
   "metadata": {},
   "outputs": [
    {
     "data": {
      "application/vnd.jupyter.widget-view+json": {
       "model_id": "b0528476bf3b46278dc16020d36bba31",
       "version_major": 2,
       "version_minor": 0
      },
      "text/plain": [
       "interactive(children=(IntSlider(value=1, description='Slides : 6 /', max=6, min=1), Output()), _dom_classes=('…"
      ]
     },
     "metadata": {},
     "output_type": "display_data"
    }
   ],
   "source": [
    "wg.interact(mock_experiment, Slides=wg.IntSlider(min=1,max=6,step=1, description=\"Slides : {} /\".format(6)));"
   ]
  },
  {
   "cell_type": "markdown",
   "id": "a55c6af8",
   "metadata": {},
   "source": [
    "- `5kb` in the scope of the entire genome is fairly small. We'd expect the spatial coordinates of genes lying on the same contiguous fiber to be spatially proximal.\n",
    "    - Yet, we see multiple spots for every gene (in a haploid genome, where we'd expect to see `n=1` spot per locus) and they appear all over the place. What's happening here?\n",
    "---\n",
    "- We might be tempted to find __the closest series of spots__ belonging to each locus. Here's why this is a __pitfall__:\n",
    "    - What we think might be happening is a collection of errors that disguise detection of the true loci belonging to the contiguous chromatin fiber:\n",
    "        - The true chromatin fiber `DNA (unobserved)` is not imaged.\n",
    "        - Instead, we intend to discern discrete locations `True Pos (Ground Truth); Red cross` with FISH probes, to gain a coarse-grain view of chromatin structure.\n",
    "        - In practice, the signal emitted from these FISH probes (`True Pos (Observed) ; Green circles`) may be displaced from its true location.\n",
    "        - Some signals may not emit at all, as FISH probes fail to label an intended locus (`False Neg ; Yellow triangles`)\n",
    "        - Still other signals (ie. off-target hybridization, background fluorescence, hot-pixels) have high signal intensity and may be mistaken as a real signal (`False Pos; Purple diamonds`)\n"
   ]
  },
  {
   "cell_type": "code",
   "execution_count": 3,
   "id": "ffc3b2ad",
   "metadata": {},
   "outputs": [
    {
     "data": {
      "application/vnd.jupyter.widget-view+json": {
       "model_id": "8a46cc80dbd34b61b71ac5db80906c8e",
       "version_major": 2,
       "version_minor": 0
      },
      "text/plain": [
       "interactive(children=(IntSlider(value=1, description='Slides : 6 /', max=6, min=1), Output()), _dom_classes=('…"
      ]
     },
     "metadata": {},
     "output_type": "display_data"
    }
   ],
   "source": [
    "wg.interact(error_types, Slides=wg.IntSlider(min=1,max=6,step=1, description=\"Slides : {} /\".format(6)));"
   ]
  },
  {
   "cell_type": "markdown",
   "id": "f4a6a619",
   "metadata": {},
   "source": [
    "---\n",
    "##### Load example data\n",
    "\n",
    "- To figure out which spots belong the true chromatin fiber, we can perform a type of inference.\n",
    "    - We load the data from our mock experiment:"
   ]
  },
  {
   "cell_type": "code",
   "execution_count": 4,
   "id": "c58d9c81",
   "metadata": {},
   "outputs": [
    {
     "name": "stderr",
     "output_type": "stream",
     "text": [
      "/home/b2jia/anaconda3/lib/python3.8/site-packages/pandas/core/indexing.py:1773: SettingWithCopyWarning: \n",
      "A value is trying to be set on a copy of a slice from a DataFrame.\n",
      "Try using .loc[row_indexer,col_indexer] = value instead\n",
      "\n",
      "See the caveats in the documentation: https://pandas.pydata.org/pandas-docs/stable/user_guide/indexing.html#returning-a-view-versus-a-copy\n",
      "  self._setitem_single_column(ilocs[0], value, pi)\n"
     ]
    }
   ],
   "source": [
    "# load data\n",
    "df = pd.read_csv(\"../data/df_spalign_demo.csv\")\n",
    "df.columns = ['x_hat', 'y_hat', 'z_hat', 'Annot', 't', 'bp']\n",
    "df.reset_index(drop = True, inplace = True)\n",
    "\n",
    "# subset data\n",
    "df_fiber = df[df['Annot'] == 'Fiber']\n",
    "df_data = df[(df['Annot'] != 'Fiber') & (df['Annot'] != 'FN')].sort_values(by='t')\n",
    "\n",
    "# add indexing\n",
    "df_list = []\n",
    "for hyb, group in df_data.groupby(by='t'):\n",
    "    _df = copy.deepcopy(group)\n",
    "    _df['i'] = list(range(_df.shape[0]))\n",
    "    df_list.append(_df)\n",
    "df_data = pd.concat(df_list)\n",
    "\n",
    "df_data = df_data[['x_hat', 'y_hat', 'z_hat', 'Annot', 't', 'i', 'bp']]\n",
    "    \n",
    "# add localization err\n",
    "df_data.loc[:, 'sig_x'] = 1\n",
    "df_data.loc[:, 'sig_y'] = 1\n",
    "df_data.loc[:, 'sig_z'] = 1  \n",
    "\n",
    "# make all positions positive\n",
    "xmin = np.min(df_data['x_hat'].values)\n",
    "ymin = np.min(df_data['y_hat'].values)\n",
    "zmin = np.min(df_data['z_hat'].values)\n",
    "\n",
    "df_data.loc[:, 'x_hat'] = df_data['x_hat'].values - xmin\n",
    "df_data.loc[:, 'y_hat'] = df_data['y_hat'].values - ymin\n",
    "df_data.loc[:, 'z_hat'] = df_data['z_hat'].values - zmin\n",
    "\n",
    "# translate fiber accordingly (for visualization)\n",
    "df_fiber.loc[:, 'x_hat'] = df_fiber['x_hat'].values - xmin\n",
    "df_fiber.loc[:, 'y_hat'] = df_fiber['y_hat'].values - ymin\n",
    "df_fiber.loc[:, 'z_hat'] = df_fiber['z_hat'].values - zmin\n"
   ]
  },
  {
   "cell_type": "code",
   "execution_count": 5,
   "id": "c8381fdd",
   "metadata": {},
   "outputs": [
    {
     "data": {
      "text/html": [
       "<div>\n",
       "<style scoped>\n",
       "    .dataframe tbody tr th:only-of-type {\n",
       "        vertical-align: middle;\n",
       "    }\n",
       "\n",
       "    .dataframe tbody tr th {\n",
       "        vertical-align: top;\n",
       "    }\n",
       "\n",
       "    .dataframe thead th {\n",
       "        text-align: right;\n",
       "    }\n",
       "</style>\n",
       "<table border=\"1\" class=\"dataframe\">\n",
       "  <thead>\n",
       "    <tr style=\"text-align: right;\">\n",
       "      <th></th>\n",
       "      <th>x_hat</th>\n",
       "      <th>y_hat</th>\n",
       "      <th>z_hat</th>\n",
       "      <th>Annot</th>\n",
       "      <th>t</th>\n",
       "      <th>i</th>\n",
       "      <th>bp</th>\n",
       "      <th>sig_x</th>\n",
       "      <th>sig_y</th>\n",
       "      <th>sig_z</th>\n",
       "    </tr>\n",
       "  </thead>\n",
       "  <tbody>\n",
       "    <tr>\n",
       "      <th>0</th>\n",
       "      <td>7.121910</td>\n",
       "      <td>7.182445</td>\n",
       "      <td>6.081194</td>\n",
       "      <td>TP</td>\n",
       "      <td>0</td>\n",
       "      <td>0</td>\n",
       "      <td>0</td>\n",
       "      <td>1</td>\n",
       "      <td>1</td>\n",
       "      <td>1</td>\n",
       "    </tr>\n",
       "    <tr>\n",
       "      <th>15001</th>\n",
       "      <td>8.508098</td>\n",
       "      <td>9.697731</td>\n",
       "      <td>9.965565</td>\n",
       "      <td>FP</td>\n",
       "      <td>0</td>\n",
       "      <td>1</td>\n",
       "      <td>0</td>\n",
       "      <td>1</td>\n",
       "      <td>1</td>\n",
       "      <td>1</td>\n",
       "    </tr>\n",
       "    <tr>\n",
       "      <th>15002</th>\n",
       "      <td>10.631071</td>\n",
       "      <td>7.161015</td>\n",
       "      <td>9.452167</td>\n",
       "      <td>FP</td>\n",
       "      <td>0</td>\n",
       "      <td>2</td>\n",
       "      <td>0</td>\n",
       "      <td>1</td>\n",
       "      <td>1</td>\n",
       "      <td>1</td>\n",
       "    </tr>\n",
       "    <tr>\n",
       "      <th>5000</th>\n",
       "      <td>8.345561</td>\n",
       "      <td>8.037631</td>\n",
       "      <td>5.236670</td>\n",
       "      <td>TP</td>\n",
       "      <td>1</td>\n",
       "      <td>0</td>\n",
       "      <td>5000</td>\n",
       "      <td>1</td>\n",
       "      <td>1</td>\n",
       "      <td>1</td>\n",
       "    </tr>\n",
       "    <tr>\n",
       "      <th>15003</th>\n",
       "      <td>12.077955</td>\n",
       "      <td>9.836819</td>\n",
       "      <td>8.411960</td>\n",
       "      <td>FP</td>\n",
       "      <td>1</td>\n",
       "      <td>1</td>\n",
       "      <td>5000</td>\n",
       "      <td>1</td>\n",
       "      <td>1</td>\n",
       "      <td>1</td>\n",
       "    </tr>\n",
       "    <tr>\n",
       "      <th>15004</th>\n",
       "      <td>8.011521</td>\n",
       "      <td>5.150124</td>\n",
       "      <td>2.489517</td>\n",
       "      <td>FP</td>\n",
       "      <td>1</td>\n",
       "      <td>2</td>\n",
       "      <td>5000</td>\n",
       "      <td>1</td>\n",
       "      <td>1</td>\n",
       "      <td>1</td>\n",
       "    </tr>\n",
       "    <tr>\n",
       "      <th>15005</th>\n",
       "      <td>0.000000</td>\n",
       "      <td>0.000000</td>\n",
       "      <td>1.237000</td>\n",
       "      <td>FP</td>\n",
       "      <td>2</td>\n",
       "      <td>0</td>\n",
       "      <td>10000</td>\n",
       "      <td>1</td>\n",
       "      <td>1</td>\n",
       "      <td>1</td>\n",
       "    </tr>\n",
       "    <tr>\n",
       "      <th>15006</th>\n",
       "      <td>0.511619</td>\n",
       "      <td>0.446863</td>\n",
       "      <td>0.000000</td>\n",
       "      <td>FP</td>\n",
       "      <td>2</td>\n",
       "      <td>1</td>\n",
       "      <td>10000</td>\n",
       "      <td>1</td>\n",
       "      <td>1</td>\n",
       "      <td>1</td>\n",
       "    </tr>\n",
       "    <tr>\n",
       "      <th>15000</th>\n",
       "      <td>5.277496</td>\n",
       "      <td>6.326657</td>\n",
       "      <td>5.903535</td>\n",
       "      <td>TP</td>\n",
       "      <td>3</td>\n",
       "      <td>0</td>\n",
       "      <td>15000</td>\n",
       "      <td>1</td>\n",
       "      <td>1</td>\n",
       "      <td>1</td>\n",
       "    </tr>\n",
       "    <tr>\n",
       "      <th>15007</th>\n",
       "      <td>6.239161</td>\n",
       "      <td>4.478541</td>\n",
       "      <td>3.684852</td>\n",
       "      <td>FP</td>\n",
       "      <td>3</td>\n",
       "      <td>1</td>\n",
       "      <td>15000</td>\n",
       "      <td>1</td>\n",
       "      <td>1</td>\n",
       "      <td>1</td>\n",
       "    </tr>\n",
       "    <tr>\n",
       "      <th>15008</th>\n",
       "      <td>6.573686</td>\n",
       "      <td>2.361868</td>\n",
       "      <td>7.003560</td>\n",
       "      <td>FP</td>\n",
       "      <td>3</td>\n",
       "      <td>2</td>\n",
       "      <td>15000</td>\n",
       "      <td>1</td>\n",
       "      <td>1</td>\n",
       "      <td>1</td>\n",
       "    </tr>\n",
       "  </tbody>\n",
       "</table>\n",
       "</div>"
      ],
      "text/plain": [
       "           x_hat     y_hat     z_hat Annot  t  i     bp  sig_x  sig_y  sig_z\n",
       "0       7.121910  7.182445  6.081194    TP  0  0      0      1      1      1\n",
       "15001   8.508098  9.697731  9.965565    FP  0  1      0      1      1      1\n",
       "15002  10.631071  7.161015  9.452167    FP  0  2      0      1      1      1\n",
       "5000    8.345561  8.037631  5.236670    TP  1  0   5000      1      1      1\n",
       "15003  12.077955  9.836819  8.411960    FP  1  1   5000      1      1      1\n",
       "15004   8.011521  5.150124  2.489517    FP  1  2   5000      1      1      1\n",
       "15005   0.000000  0.000000  1.237000    FP  2  0  10000      1      1      1\n",
       "15006   0.511619  0.446863  0.000000    FP  2  1  10000      1      1      1\n",
       "15000   5.277496  6.326657  5.903535    TP  3  0  15000      1      1      1\n",
       "15007   6.239161  4.478541  3.684852    FP  3  1  15000      1      1      1\n",
       "15008   6.573686  2.361868  7.003560    FP  3  2  15000      1      1      1"
      ]
     },
     "execution_count": 5,
     "metadata": {},
     "output_type": "execute_result"
    }
   ],
   "source": [
    "df_data"
   ]
  },
  {
   "cell_type": "markdown",
   "id": "757eb410",
   "metadata": {},
   "source": [
    "- Above, we have a series of `4-D` spatial coordinates, acquired by sequentially imaging 4 loci inside one nucleus. \n",
    "    - We know the coordinates in Euclidean space (`x_hat`, `y_hat`, `z_hat`).\n",
    "    - We also know the order of these loci (`t`).and the genomic distance relative to the first locus imaged (`bp`)\n",
    "        - __Q__: When discrete genes are imaged and __the fiber connecting them is not visualized__, how can we __infer__ which signals lie on the __same contiguous chromatin fiber__?"
   ]
  },
  {
   "cell_type": "code",
   "execution_count": 6,
   "id": "2fe188e6",
   "metadata": {},
   "outputs": [
    {
     "data": {
      "image/png": "[encoded data removed]",
      "text/plain": [
       "<Figure size 1296x648 with 2 Axes>"
      ]
     },
     "metadata": {
      "needs_background": "light"
     },
     "output_type": "display_data"
    }
   ],
   "source": [
    "# plot\n",
    "fig = plt.figure(figsize = (18, 9))\n",
    "ax1 = fig.add_subplot(1, 2, 1, projection='3d')\n",
    "ax2 = fig.add_subplot(1, 2, 2, projection='3d')\n",
    "\n",
    "# Draw imaged loci\n",
    "cdict = {0:'Red', 1:'Green', 2:'Blue', 3:'Purple'}\n",
    "ax1.scatter(df_data.loc[:, 'z_hat'],\n",
    "           df_data.loc[:, 'y_hat'],\n",
    "           df_data.loc[:, 'x_hat'],\n",
    "           c=[cdict[elem] for elem in df_data.t], alpha = 1, marker='^', s = 100)\n",
    "\n",
    "ax1.set_title(\"Input\", fontsize = 20);\n",
    "\n",
    "# Draw imaged loci\n",
    "cdict = {0:'Red', 1:'Green', 2:'Blue', 3:'Purple'}\n",
    "ax2.scatter(df_data.loc[:, 'z_hat'],\n",
    "           df_data.loc[:, 'y_hat'],\n",
    "           df_data.loc[:, 'x_hat'],\n",
    "           c=[cdict[elem] for elem in df_data.t], alpha = 1, marker='^', s = 100)\n",
    "\n",
    "# Draw fiber\n",
    "ax2.plot(df_fiber.loc[:, 'z_hat'], df_fiber.loc[:, 'y_hat'], df_fiber.loc[:, 'x_hat'], c='Blue', alpha = 0.3, label = 'DNA (unobserved)')\n",
    "\n",
    "# Draw true positive (true location)\n",
    "ax2.scatter(df_data.loc[[0, 5000, 15000], 'z_hat'],\n",
    "            df_data.loc[[0, 5000, 15000], 'y_hat'],\n",
    "            df_data.loc[[0, 5000, 15000], 'x_hat'],\n",
    "            alpha = 1, marker='o', s = 300, facecolors='none', edgecolors='r')\n",
    "\n",
    "ax2.set_title(\"Output\", fontsize = 20);"
   ]
  },
  {
   "cell_type": "markdown",
   "id": "310d255d",
   "metadata": {},
   "source": [
    "---\n",
    "##### The key insight here is recognizing that true loci lie on the same contiguous fiber and are physically linked.\n",
    "---\n",
    "- What if we can examine the probability two loci are connected?\n",
    "    - Take the first locus `t = 0; Red` and second locus `t = 1; Green` for example. \n",
    "    - If we didn't have the annotation (provided for this dummy example), it's hard to tell which of the three spots belonging to first locus (`t = 0`; `Red`) is connected to which of the three spots belonging to the second locus (`t = 1`; `Green`)"
   ]
  },
  {
   "cell_type": "code",
   "execution_count": 7,
   "id": "7b326ba4",
   "metadata": {},
   "outputs": [
    {
     "data": {
      "text/html": [
       "<div>\n",
       "<style scoped>\n",
       "    .dataframe tbody tr th:only-of-type {\n",
       "        vertical-align: middle;\n",
       "    }\n",
       "\n",
       "    .dataframe tbody tr th {\n",
       "        vertical-align: top;\n",
       "    }\n",
       "\n",
       "    .dataframe thead th {\n",
       "        text-align: right;\n",
       "    }\n",
       "</style>\n",
       "<table border=\"1\" class=\"dataframe\">\n",
       "  <thead>\n",
       "    <tr style=\"text-align: right;\">\n",
       "      <th></th>\n",
       "      <th>x_hat</th>\n",
       "      <th>y_hat</th>\n",
       "      <th>z_hat</th>\n",
       "      <th>Annot</th>\n",
       "      <th>t</th>\n",
       "      <th>i</th>\n",
       "      <th>bp</th>\n",
       "      <th>sig_x</th>\n",
       "      <th>sig_y</th>\n",
       "      <th>sig_z</th>\n",
       "    </tr>\n",
       "  </thead>\n",
       "  <tbody>\n",
       "    <tr>\n",
       "      <th>0</th>\n",
       "      <td>7.121910</td>\n",
       "      <td>7.182445</td>\n",
       "      <td>6.081194</td>\n",
       "      <td>TP</td>\n",
       "      <td>0</td>\n",
       "      <td>0</td>\n",
       "      <td>0</td>\n",
       "      <td>1</td>\n",
       "      <td>1</td>\n",
       "      <td>1</td>\n",
       "    </tr>\n",
       "    <tr>\n",
       "      <th>15001</th>\n",
       "      <td>8.508098</td>\n",
       "      <td>9.697731</td>\n",
       "      <td>9.965565</td>\n",
       "      <td>FP</td>\n",
       "      <td>0</td>\n",
       "      <td>1</td>\n",
       "      <td>0</td>\n",
       "      <td>1</td>\n",
       "      <td>1</td>\n",
       "      <td>1</td>\n",
       "    </tr>\n",
       "    <tr>\n",
       "      <th>15002</th>\n",
       "      <td>10.631071</td>\n",
       "      <td>7.161015</td>\n",
       "      <td>9.452167</td>\n",
       "      <td>FP</td>\n",
       "      <td>0</td>\n",
       "      <td>2</td>\n",
       "      <td>0</td>\n",
       "      <td>1</td>\n",
       "      <td>1</td>\n",
       "      <td>1</td>\n",
       "    </tr>\n",
       "    <tr>\n",
       "      <th>5000</th>\n",
       "      <td>8.345561</td>\n",
       "      <td>8.037631</td>\n",
       "      <td>5.236670</td>\n",
       "      <td>TP</td>\n",
       "      <td>1</td>\n",
       "      <td>0</td>\n",
       "      <td>5000</td>\n",
       "      <td>1</td>\n",
       "      <td>1</td>\n",
       "      <td>1</td>\n",
       "    </tr>\n",
       "    <tr>\n",
       "      <th>15003</th>\n",
       "      <td>12.077955</td>\n",
       "      <td>9.836819</td>\n",
       "      <td>8.411960</td>\n",
       "      <td>FP</td>\n",
       "      <td>1</td>\n",
       "      <td>1</td>\n",
       "      <td>5000</td>\n",
       "      <td>1</td>\n",
       "      <td>1</td>\n",
       "      <td>1</td>\n",
       "    </tr>\n",
       "    <tr>\n",
       "      <th>15004</th>\n",
       "      <td>8.011521</td>\n",
       "      <td>5.150124</td>\n",
       "      <td>2.489517</td>\n",
       "      <td>FP</td>\n",
       "      <td>1</td>\n",
       "      <td>2</td>\n",
       "      <td>5000</td>\n",
       "      <td>1</td>\n",
       "      <td>1</td>\n",
       "      <td>1</td>\n",
       "    </tr>\n",
       "  </tbody>\n",
       "</table>\n",
       "</div>"
      ],
      "text/plain": [
       "           x_hat     y_hat     z_hat Annot  t  i    bp  sig_x  sig_y  sig_z\n",
       "0       7.121910  7.182445  6.081194    TP  0  0     0      1      1      1\n",
       "15001   8.508098  9.697731  9.965565    FP  0  1     0      1      1      1\n",
       "15002  10.631071  7.161015  9.452167    FP  0  2     0      1      1      1\n",
       "5000    8.345561  8.037631  5.236670    TP  1  0  5000      1      1      1\n",
       "15003  12.077955  9.836819  8.411960    FP  1  1  5000      1      1      1\n",
       "15004   8.011521  5.150124  2.489517    FP  1  2  5000      1      1      1"
      ]
     },
     "execution_count": 7,
     "metadata": {},
     "output_type": "execute_result"
    }
   ],
   "source": [
    "df_data[df_data['t'] <= 1]"
   ]
  },
  {
   "cell_type": "markdown",
   "id": "3a8f40e6",
   "metadata": {},
   "source": [
    "---\n",
    "- If we use a __polymer model__ to draw bonds between these candidate spots, we might be able to figure out which pair is most probably physically linked.\n",
    "<br></br>\n",
    "- Say we draw a polymer bond between `t=0; i=0 (True Positive)` --> `t=1; i=1 (False Positive)`. \n",
    "- We also draw a polymer bond between `t=0; i=0 (True Positive)` --> `t=1; i=0 (True Positive)`\n",
    "<br></br>\n",
    "    - We evaluate the bond probability using the following formula:\n",
    "$$\n",
    "w_{t ; i}^{t+c ; j}=4\\pi(R_{t ; i}^{t+c ; j})\\frac{1}{\\left(2 \\pi\\left(s^{t+c;j}_{t;i}\\right)^{2}\\right)^{3 / 2}} e^{-\\frac{(R_{t ; i}^{t+c_{j} ; j})^{2}}{2(s_{t ; i}^{t+c ; j})^{2}}}\n",
    "$$\n",
    "<br></br>\n",
    "    - We note that the additional term $4\\pi(R_{t ; i}^{t+c ; j})$ comes from integrating the probability density over a sphere. In practice, this additional distance term is outweighted by the exponential term (in our illustrations, this term is removed).\n",
    "- $R_{t;i}^{t+c;j}$ is the Euclidean distance, or observed spatial distance, between two imaged loci.\n",
    "- $s^{t+c;j}_{t;i}$ is a function of the expected polymer contour length:\n",
    "\n",
    "$$\n",
    "\\frac{2}{3}l_{p}\\tau L^{t+c;j}_{t;i}\n",
    "$$\n",
    "<br></br>\n",
    "- $l_{p}$ is the persistence length of DNA. We fix this as `150bp`, a value derived from studying DNA in free solution (the true persistence length _in situ_ is likely different)\n",
    "- $\\tau$ is the distance parameter that converts base pairs to nanometers. We fix this as `0.34nm/bp`; the lengthscale of DNA _in situ_ is also likely different.\n",
    "- $L^{t+c;j}_{t;i}$ is the genomic distance separating locus `t;i` and locus `t+c;j`\n",
    "    - The length of the expected distance is based on the genomic separation between these two spots, `5000 bp`. "
   ]
  },
  {
   "cell_type": "code",
   "execution_count": 8,
   "id": "3078a3e1",
   "metadata": {},
   "outputs": [
    {
     "data": {
      "application/vnd.jupyter.widget-view+json": {
       "model_id": "c7a137f95936432dbfcf7594550cc5a4",
       "version_major": 2,
       "version_minor": 0
      },
      "text/plain": [
       "interactive(children=(IntSlider(value=1, description='Slides : 6 /', max=6, min=1), Output()), _dom_classes=('…"
      ]
     },
     "metadata": {},
     "output_type": "display_data"
    }
   ],
   "source": [
    "wg.interact(polymer_model, Slides=wg.IntSlider(min=1,max=6,step=1, description=\"Slides : {} /\".format(6)));"
   ]
  },
  {
   "cell_type": "markdown",
   "id": "53972ca2",
   "metadata": {},
   "source": [
    "---\n",
    "Note: we take the **negative log bond probability below**."
   ]
  },
  {
   "cell_type": "code",
   "execution_count": 9,
   "id": "d0e370f9",
   "metadata": {},
   "outputs": [
    {
     "name": "stdout",
     "output_type": "stream",
     "text": [
      "This is the bond probability between spot 1, hyb 0 - spot 1, hyb 1:  8.592620998568247\n",
      "This is the bond probability between spot 1, hyb 0 - spot 2, hyb 1:  5.642909529063303\n"
     ]
    }
   ],
   "source": [
    "# parms\n",
    "nm_per_bp = 0.34\n",
    "pixel_dist = 100\n",
    "l_p_bp = 150\n",
    "l_p = l_p_bp*nm_per_bp/pixel_dist\n",
    "L = 5000\n",
    "\n",
    "# calculate expected contour length\n",
    "s = L*nm_per_bp/pixel_dist\n",
    "\n",
    "# calculate Euclidean distance between observed spots\n",
    "r_fp = np.linalg.norm(df_data.iloc[0, :3]- df_data.iloc[4, :3])\n",
    "r_tp = np.linalg.norm(df_data.iloc[0, :3]- df_data.iloc[3, :3])\n",
    "\n",
    "print(\"This is the bond probability between spot 1, hyb 0 - spot 1, hyb 1: \", \n",
    "      log_bond(l_p, s, r_fp))\n",
    "\n",
    "print(\"This is the bond probability between spot 1, hyb 0 - spot 2, hyb 1: \",\n",
    "      log_bond(l_p, s, r_tp))"
   ]
  },
  {
   "cell_type": "markdown",
   "id": "af59c919",
   "metadata": {},
   "source": [
    "- We see that the bond probability (negative log probability) is less probable (greater negative log probability) for `t=0; i=0 (True Positive) --> t=1; i=1 (False Positive)`, than for `t=0; i=0 (True Positive) --> t=1; i=0 (True Positive)`\n",
    "    - In this manner, we can evaluate the probability two discrete signals are linked on the same polymer fiber using this function.\n",
    "    \n",
    "---\n",
    "- It turns out the multiplicative product of each of these bond probabilities, spanning from beginning to end of a chromatin fiber, reflects its __physical likelihood__ (Conformational Distribution Function; CDF):\n",
    "\n",
    "$$\n",
    "C D F=\\prod_{h=1}^{H} w_{v_{h}}^{v_{h+1}}, p=\\left\\langle v_{1}, v_{2} \\ldots v_{H}\\right\\rangle\n",
    "$$\n",
    "\n",
    "- We strive to seek the series of bond probabilities that allow us to connect the start of the chromatin to the end, such that we can __maximize__ the bond probabilities between every pair of imaged locus.\n",
    "    - If we use negative log probabilities:\n",
    "$$\n",
    "w' = ln(w)\n",
    "$$\n",
    "    - ...this is reframed as the __sum__ of negative log probabilities, and a value we strive to __minimize__:\n",
    "    \n",
    "$$\n",
    "CDF^{*} = \\min \\sum_{h=1}^{H} w_{v_{h}}^{'v_{h+1}}, p^{*}=\\left\\langle v_{1}, v_{2} \\ldots v_{H}\\right\\rangle\n",
    "$$\n",
    "\n",
    "where $p^{*}$ is the series of most optimal bonds (shortest path)."
   ]
  },
  {
   "cell_type": "markdown",
   "id": "489145ae",
   "metadata": {},
   "source": [
    "#### Spatial genome alignment\n",
    "\n",
    "- Let's apply spatial genome alignment to this demo dataset. What's the most likely fiber we find among these spatial locations?"
   ]
  },
  {
   "cell_type": "code",
   "execution_count": 10,
   "id": "232d446f",
   "metadata": {},
   "outputs": [
    {
     "name": "stderr",
     "output_type": "stream",
     "text": [
      "/home/b2jia/projects/jie/jie/aligner.py:563: FutureWarning: Boolean inputs to the `inclusive` argument are deprecated infavour of `both` or `neither`.\n",
      "  pts_clr_next = cell_pts.loc[cell_pts['hyb'].between(i, i+num_skip, inclusive = False)]\n"
     ]
    },
    {
     "data": {
      "text/html": [
       "<div>\n",
       "<style scoped>\n",
       "    .dataframe tbody tr th:only-of-type {\n",
       "        vertical-align: middle;\n",
       "    }\n",
       "\n",
       "    .dataframe tbody tr th {\n",
       "        vertical-align: top;\n",
       "    }\n",
       "\n",
       "    .dataframe thead th {\n",
       "        text-align: right;\n",
       "    }\n",
       "</style>\n",
       "<table border=\"1\" class=\"dataframe\">\n",
       "  <thead>\n",
       "    <tr style=\"text-align: right;\">\n",
       "      <th></th>\n",
       "      <th>x_hat</th>\n",
       "      <th>y_hat</th>\n",
       "      <th>z_hat</th>\n",
       "      <th>Annot</th>\n",
       "      <th>t</th>\n",
       "      <th>i</th>\n",
       "      <th>bp</th>\n",
       "      <th>sig_x</th>\n",
       "      <th>sig_y</th>\n",
       "      <th>sig_z</th>\n",
       "    </tr>\n",
       "  </thead>\n",
       "  <tbody>\n",
       "    <tr>\n",
       "      <th>0</th>\n",
       "      <td>7.121910</td>\n",
       "      <td>7.182445</td>\n",
       "      <td>6.081194</td>\n",
       "      <td>TP</td>\n",
       "      <td>0</td>\n",
       "      <td>0</td>\n",
       "      <td>0</td>\n",
       "      <td>1</td>\n",
       "      <td>1</td>\n",
       "      <td>1</td>\n",
       "    </tr>\n",
       "    <tr>\n",
       "      <th>5000</th>\n",
       "      <td>8.345561</td>\n",
       "      <td>8.037631</td>\n",
       "      <td>5.236670</td>\n",
       "      <td>TP</td>\n",
       "      <td>1</td>\n",
       "      <td>0</td>\n",
       "      <td>5000</td>\n",
       "      <td>1</td>\n",
       "      <td>1</td>\n",
       "      <td>1</td>\n",
       "    </tr>\n",
       "    <tr>\n",
       "      <th>15000</th>\n",
       "      <td>5.277496</td>\n",
       "      <td>6.326657</td>\n",
       "      <td>5.903535</td>\n",
       "      <td>TP</td>\n",
       "      <td>3</td>\n",
       "      <td>0</td>\n",
       "      <td>15000</td>\n",
       "      <td>1</td>\n",
       "      <td>1</td>\n",
       "      <td>1</td>\n",
       "    </tr>\n",
       "  </tbody>\n",
       "</table>\n",
       "</div>"
      ],
      "text/plain": [
       "          x_hat     y_hat     z_hat Annot  t  i     bp  sig_x  sig_y  sig_z\n",
       "0      7.121910  7.182445  6.081194    TP  0  0      0      1      1      1\n",
       "5000   8.345561  8.037631  5.236670    TP  1  0   5000      1      1      1\n",
       "15000  5.277496  6.326657  5.903535    TP  3  0  15000      1      1      1"
      ]
     },
     "execution_count": 10,
     "metadata": {},
     "output_type": "execute_result"
    }
   ],
   "source": [
    "cell_pts_input = copy.deepcopy(df_data)\n",
    "cell_pts_input.rename(columns = {'t':'hyb'}, inplace = True)\n",
    "\n",
    "mat, path, _ = find_chr(cell_pts_input = cell_pts_input, \n",
    "                        gene_dist = [0, 5000, 10000, 15000], \n",
    "                        bin_size = 5000,\n",
    "                        nm_per_bp = 0.34,\n",
    "                        num_skip = 3,\n",
    "                        total_num_skip_frac = 1,\n",
    "                        norm_skip_penalty = False,\n",
    "                        stretch_factor = 1.01,\n",
    "                        init_skip_frac = 0,\n",
    "                        lim_init_skip = False,\n",
    "                        lim_min_dist=False)\n",
    "\n",
    "df_data.iloc[path]"
   ]
  },
  {
   "cell_type": "markdown",
   "id": "35aa2945",
   "metadata": {},
   "source": [
    "- It looks like the most likely fiber is one that traverses `t=0`, `t=1` and `t=3` loci, as any connection to `t=2; (Blue)` is deemed physically unlikely\n",
    "    - What's happening behind the scenes of this function, `jie.aligner.find_chr`?"
   ]
  },
  {
   "cell_type": "markdown",
   "id": "2e5a9184",
   "metadata": {},
   "source": [
    "---\n",
    "##### Under the hood"
   ]
  },
  {
   "cell_type": "code",
   "execution_count": 11,
   "id": "ea91fdb9",
   "metadata": {},
   "outputs": [
    {
     "name": "stderr",
     "output_type": "stream",
     "text": [
      "/tmp/ipykernel_18703/1976230745.py:49: FutureWarning: Boolean inputs to the `inclusive` argument are deprecated infavour of `both` or `neither`.\n",
      "  pts_clr_next = cell_pts.loc[cell_pts['hyb'].between(i, i+num_skip, inclusive = False)]\n"
     ]
    }
   ],
   "source": [
    "cell_pts_input = copy.deepcopy(df_data)\n",
    "cell_pts_input.rename(columns={'t':'hyb'}, inplace = True)\n",
    "gene_dist = [0, 5000, 10000, 15000]\n",
    "bin_size = 5000\n",
    "nm_per_bp = 0.34\n",
    "num_skip = 3\n",
    "stretch_factor=1.2\n",
    "exp_stretch = 1\n",
    "total_num_skip_frac = 1\n",
    "norm_skip_penalty = False\n",
    "stretch_factor = 1.01\n",
    "init_skip_frac = 0\n",
    "theta = np.pi/20\n",
    "lim_init_skip = False\n",
    "lim_min_dist=False\n",
    "\n",
    "############################################\n",
    "\n",
    "## Define constants ##\n",
    "n_colours = len(gene_dist)\n",
    "init_skip = int(init_skip_frac*n_colours)\n",
    "end_skip = int((1-init_skip_frac)*n_colours)-1\n",
    "total_num_skip = int(total_num_skip_frac*len(gene_dist)) \n",
    "corr_fac = nm_per_bp / pixel_dist\n",
    "l_p = l_p_bp * nm_per_bp / pixel_dist # persistence length in pixels\n",
    "\n",
    "loci_dist = find_loci_dist(gene_dist = gene_dist,\n",
    "                           nm_per_bp = nm_per_bp,\n",
    "                           pixel_dist = pixel_dist)\n",
    "\n",
    "# make copy of input dataframe\n",
    "cell_pts = copy.deepcopy(cell_pts_input)\n",
    "\n",
    "# add current index\n",
    "cell_pts.reset_index(inplace=True, drop = True)\n",
    "cell_pts['CurrIndex'] = cell_pts.index\n",
    "\n",
    "# create transition matrix\n",
    "n_states =  cell_pts.shape[0]  \n",
    "trans_mat = np.zeros((n_states, n_states))\n",
    "\n",
    "trans_mat_prog = {}\n",
    "trans_mat_prog[-1] = copy.deepcopy(trans_mat)\n",
    "\n",
    "for i in set(cell_pts['hyb']):\n",
    "    \n",
    "    # grab nodes of curr hyb and reachable hyb\n",
    "    pts_clr_curr = cell_pts.loc[cell_pts['hyb']==i]\n",
    "    pts_clr_next = cell_pts.loc[cell_pts['hyb'].between(i, i+num_skip, inclusive = False)]\n",
    "\n",
    "    # grab node indeces in adjacency matrix\n",
    "    ## NB: rows --> starting vertices | cols --> ending vertices\n",
    "    rows = pts_clr_curr['CurrIndex'].values\n",
    "    cols = pts_clr_next['CurrIndex'].values\n",
    "\n",
    "    # convert node indeces to position in transition matrix\n",
    "    trans_idx = (np.array([n_states*rows, ] * len(cols)).T + np.array(cols)).flatten().astype(int)\n",
    "\n",
    "    # find degrees of separation between nodes\n",
    "    next_hyb = i+1\n",
    "    skips = np.array([pts_clr_next['hyb'].values,] * pts_clr_curr.shape[0] ) - np.min([next_hyb, n_colours-1])\n",
    "\n",
    "    # calculate edge weights\n",
    "    trans_prob = edge_weights(pts_clr_curr, pts_clr_next, \n",
    "                              bin_size, l_p_bp, \n",
    "                              nm_per_bp, pixel_dist, \n",
    "                              theta, loci_dist, lim_min_dist)\n",
    "\n",
    "    # update transition matrix\n",
    "    np.put(trans_mat, trans_idx, trans_prob)\n",
    "    \n",
    "    # save state\n",
    "    trans_mat_prog[i] = copy.deepcopy(trans_mat)\n",
    "    \n",
    "    # save intermediate data\n",
    "    if i == 0:\n",
    "        ex_pts_clr_curr = copy.deepcopy(pts_clr_curr)\n",
    "        ex_pts_clr_next = copy.deepcopy(pts_clr_next)\n",
    "        ex_trans_prob = copy.deepcopy(trans_prob)\n",
    "    if i == 1:\n",
    "        ex_trans_prob_skip = copy.deepcopy(trans_prob)"
   ]
  },
  {
   "cell_type": "markdown",
   "id": "0c3c8248",
   "metadata": {},
   "source": [
    "- We star with spatial coordinates of a given locus:"
   ]
  },
  {
   "cell_type": "code",
   "execution_count": 12,
   "id": "07e26673",
   "metadata": {},
   "outputs": [
    {
     "data": {
      "text/html": [
       "<div>\n",
       "<style scoped>\n",
       "    .dataframe tbody tr th:only-of-type {\n",
       "        vertical-align: middle;\n",
       "    }\n",
       "\n",
       "    .dataframe tbody tr th {\n",
       "        vertical-align: top;\n",
       "    }\n",
       "\n",
       "    .dataframe thead th {\n",
       "        text-align: right;\n",
       "    }\n",
       "</style>\n",
       "<table border=\"1\" class=\"dataframe\">\n",
       "  <thead>\n",
       "    <tr style=\"text-align: right;\">\n",
       "      <th></th>\n",
       "      <th>x_hat</th>\n",
       "      <th>y_hat</th>\n",
       "      <th>z_hat</th>\n",
       "      <th>Annot</th>\n",
       "      <th>t</th>\n",
       "      <th>i</th>\n",
       "      <th>bp</th>\n",
       "      <th>sig_x</th>\n",
       "      <th>sig_y</th>\n",
       "      <th>sig_z</th>\n",
       "      <th>CurrIndex</th>\n",
       "    </tr>\n",
       "  </thead>\n",
       "  <tbody>\n",
       "    <tr>\n",
       "      <th>0</th>\n",
       "      <td>7.121910</td>\n",
       "      <td>7.182445</td>\n",
       "      <td>6.081194</td>\n",
       "      <td>TP</td>\n",
       "      <td>0</td>\n",
       "      <td>0</td>\n",
       "      <td>0</td>\n",
       "      <td>1</td>\n",
       "      <td>1</td>\n",
       "      <td>1</td>\n",
       "      <td>0</td>\n",
       "    </tr>\n",
       "    <tr>\n",
       "      <th>1</th>\n",
       "      <td>8.508098</td>\n",
       "      <td>9.697731</td>\n",
       "      <td>9.965565</td>\n",
       "      <td>FP</td>\n",
       "      <td>0</td>\n",
       "      <td>1</td>\n",
       "      <td>0</td>\n",
       "      <td>1</td>\n",
       "      <td>1</td>\n",
       "      <td>1</td>\n",
       "      <td>1</td>\n",
       "    </tr>\n",
       "    <tr>\n",
       "      <th>2</th>\n",
       "      <td>10.631071</td>\n",
       "      <td>7.161015</td>\n",
       "      <td>9.452167</td>\n",
       "      <td>FP</td>\n",
       "      <td>0</td>\n",
       "      <td>2</td>\n",
       "      <td>0</td>\n",
       "      <td>1</td>\n",
       "      <td>1</td>\n",
       "      <td>1</td>\n",
       "      <td>2</td>\n",
       "    </tr>\n",
       "  </tbody>\n",
       "</table>\n",
       "</div>"
      ],
      "text/plain": [
       "       x_hat     y_hat     z_hat Annot  t  i  bp  sig_x  sig_y  sig_z  \\\n",
       "0   7.121910  7.182445  6.081194    TP  0  0   0      1      1      1   \n",
       "1   8.508098  9.697731  9.965565    FP  0  1   0      1      1      1   \n",
       "2  10.631071  7.161015  9.452167    FP  0  2   0      1      1      1   \n",
       "\n",
       "   CurrIndex  \n",
       "0          0  \n",
       "1          1  \n",
       "2          2  "
      ]
     },
     "execution_count": 12,
     "metadata": {},
     "output_type": "execute_result"
    }
   ],
   "source": [
    "ex_pts_clr_curr.rename(columns={'hyb':'t'}, inplace = True)\n",
    "ex_pts_clr_curr"
   ]
  },
  {
   "cell_type": "markdown",
   "id": "49ba3267",
   "metadata": {},
   "source": [
    "- We consider all spatial coordinates belonging to loci `num_skip=3` bonds away (non-inclusive):"
   ]
  },
  {
   "cell_type": "code",
   "execution_count": 13,
   "id": "a2523885",
   "metadata": {},
   "outputs": [
    {
     "data": {
      "text/html": [
       "<div>\n",
       "<style scoped>\n",
       "    .dataframe tbody tr th:only-of-type {\n",
       "        vertical-align: middle;\n",
       "    }\n",
       "\n",
       "    .dataframe tbody tr th {\n",
       "        vertical-align: top;\n",
       "    }\n",
       "\n",
       "    .dataframe thead th {\n",
       "        text-align: right;\n",
       "    }\n",
       "</style>\n",
       "<table border=\"1\" class=\"dataframe\">\n",
       "  <thead>\n",
       "    <tr style=\"text-align: right;\">\n",
       "      <th></th>\n",
       "      <th>x_hat</th>\n",
       "      <th>y_hat</th>\n",
       "      <th>z_hat</th>\n",
       "      <th>Annot</th>\n",
       "      <th>t</th>\n",
       "      <th>i</th>\n",
       "      <th>bp</th>\n",
       "      <th>sig_x</th>\n",
       "      <th>sig_y</th>\n",
       "      <th>sig_z</th>\n",
       "      <th>CurrIndex</th>\n",
       "    </tr>\n",
       "  </thead>\n",
       "  <tbody>\n",
       "    <tr>\n",
       "      <th>3</th>\n",
       "      <td>8.345561</td>\n",
       "      <td>8.037631</td>\n",
       "      <td>5.236670</td>\n",
       "      <td>TP</td>\n",
       "      <td>1</td>\n",
       "      <td>0</td>\n",
       "      <td>5000</td>\n",
       "      <td>1</td>\n",
       "      <td>1</td>\n",
       "      <td>1</td>\n",
       "      <td>3</td>\n",
       "    </tr>\n",
       "    <tr>\n",
       "      <th>4</th>\n",
       "      <td>12.077955</td>\n",
       "      <td>9.836819</td>\n",
       "      <td>8.411960</td>\n",
       "      <td>FP</td>\n",
       "      <td>1</td>\n",
       "      <td>1</td>\n",
       "      <td>5000</td>\n",
       "      <td>1</td>\n",
       "      <td>1</td>\n",
       "      <td>1</td>\n",
       "      <td>4</td>\n",
       "    </tr>\n",
       "    <tr>\n",
       "      <th>5</th>\n",
       "      <td>8.011521</td>\n",
       "      <td>5.150124</td>\n",
       "      <td>2.489517</td>\n",
       "      <td>FP</td>\n",
       "      <td>1</td>\n",
       "      <td>2</td>\n",
       "      <td>5000</td>\n",
       "      <td>1</td>\n",
       "      <td>1</td>\n",
       "      <td>1</td>\n",
       "      <td>5</td>\n",
       "    </tr>\n",
       "    <tr>\n",
       "      <th>6</th>\n",
       "      <td>0.000000</td>\n",
       "      <td>0.000000</td>\n",
       "      <td>1.237000</td>\n",
       "      <td>FP</td>\n",
       "      <td>2</td>\n",
       "      <td>0</td>\n",
       "      <td>10000</td>\n",
       "      <td>1</td>\n",
       "      <td>1</td>\n",
       "      <td>1</td>\n",
       "      <td>6</td>\n",
       "    </tr>\n",
       "    <tr>\n",
       "      <th>7</th>\n",
       "      <td>0.511619</td>\n",
       "      <td>0.446863</td>\n",
       "      <td>0.000000</td>\n",
       "      <td>FP</td>\n",
       "      <td>2</td>\n",
       "      <td>1</td>\n",
       "      <td>10000</td>\n",
       "      <td>1</td>\n",
       "      <td>1</td>\n",
       "      <td>1</td>\n",
       "      <td>7</td>\n",
       "    </tr>\n",
       "  </tbody>\n",
       "</table>\n",
       "</div>"
      ],
      "text/plain": [
       "       x_hat     y_hat     z_hat Annot  t  i     bp  sig_x  sig_y  sig_z  \\\n",
       "3   8.345561  8.037631  5.236670    TP  1  0   5000      1      1      1   \n",
       "4  12.077955  9.836819  8.411960    FP  1  1   5000      1      1      1   \n",
       "5   8.011521  5.150124  2.489517    FP  1  2   5000      1      1      1   \n",
       "6   0.000000  0.000000  1.237000    FP  2  0  10000      1      1      1   \n",
       "7   0.511619  0.446863  0.000000    FP  2  1  10000      1      1      1   \n",
       "\n",
       "   CurrIndex  \n",
       "3          3  \n",
       "4          4  \n",
       "5          5  \n",
       "6          6  \n",
       "7          7  "
      ]
     },
     "execution_count": 13,
     "metadata": {},
     "output_type": "execute_result"
    }
   ],
   "source": [
    "ex_pts_clr_next.rename(columns={'hyb':'t'}, inplace = True)\n",
    "ex_pts_clr_next"
   ]
  },
  {
   "cell_type": "code",
   "execution_count": 14,
   "id": "99fa199f",
   "metadata": {},
   "outputs": [
    {
     "data": {
      "text/plain": [
       "array([[0, 0, 0, 1, 1],\n",
       "       [0, 0, 0, 1, 1],\n",
       "       [0, 0, 0, 1, 1]])"
      ]
     },
     "execution_count": 14,
     "metadata": {},
     "output_type": "execute_result"
    }
   ],
   "source": [
    "next_hyb = 1\n",
    "n_colours = 4\n",
    "skips = np.array([ex_pts_clr_next['t'].values,] * ex_pts_clr_curr.shape[0] ) - np.min([next_hyb, n_colours-1])\n",
    "\n",
    "skips"
   ]
  },
  {
   "cell_type": "markdown",
   "id": "3902669d",
   "metadata": {},
   "source": [
    "- We calculate the bond probability between every pair of starting coordinates (`pts_clr_curr`) to end coordinates (`pts_clr_next`):"
   ]
  },
  {
   "cell_type": "code",
   "execution_count": 15,
   "id": "b7569bc7",
   "metadata": {},
   "outputs": [
    {
     "data": {
      "image/png": "[encoded data removed]",
      "text/plain": [
       "<Figure size 360x216 with 1 Axes>"
      ]
     },
     "metadata": {
      "needs_background": "light"
     },
     "output_type": "display_data"
    }
   ],
   "source": [
    "fig, axs = plt.subplots(figsize = (5, 3))\n",
    "axs.imshow(ex_trans_prob, cmap = 'plasma')\n",
    "plt.yticks(np.arange(3),[\"t=0;\\ni=0\", \"t=0;\\ni=1\", \"t=0;\\ni=2\"], fontsize = 18);\n",
    "plt.xticks(np.arange(5),[\"t=1;\\ni=0\", \"t=1;\\ni=1\", \"t=1;\\ni=2\", \"t=2;\\ni=0\", \"t=2;\\ni=1\"], fontsize = 18);"
   ]
  },
  {
   "cell_type": "markdown",
   "id": "cc11cc83",
   "metadata": {},
   "source": [
    "- We do so for all subsequent spatial coordinates, building directed edges from all coordinates of a given locus to all coordinates of successive loci (defined up to `num_skip` bonds away).\n",
    "    - Slowly, our adjacency matrix populates with directed edges and weighted accordingly by the bond probability:"
   ]
  },
  {
   "cell_type": "code",
   "execution_count": 16,
   "id": "1ad9e9e0",
   "metadata": {},
   "outputs": [
    {
     "data": {
      "image/png": "[encoded data removed]",
      "text/plain": [
       "<Figure size 1440x360 with 5 Axes>"
      ]
     },
     "metadata": {
      "needs_background": "light"
     },
     "output_type": "display_data"
    }
   ],
   "source": [
    "fig, axs = plt.subplots(1, 5, figsize = (20, 5))\n",
    "for (t, mat), ax in zip(trans_mat_prog.items(), axs.flatten()):\n",
    "    ax.imshow(mat, cmap = 'plasma')\n",
    "    if t == -1:\n",
    "        ax.set_title(\"Adjacency matrix :\\nInitial\", fontsize = 18)\n",
    "    else:\n",
    "        ax.set_title(\"Adjacency matrix: \\nt={}\".format(t), fontsize = 18)"
   ]
  },
  {
   "cell_type": "markdown",
   "id": "e97c8f83",
   "metadata": {},
   "source": [
    "- The reason we consider bond probabilities between non-successive loci (and up to `num_skip` bonds away) is __to acknowledge error__:\n",
    "    - For instance, it is possible that some spatial coordinates are __inadvertently detected__ for a particular locus (__False Positive__ signal ; ie. off-target hybridization, background fluorescence)\n",
    "    - At the same time, it is also possible that some spatial coordinates are __never detected__ for a particular locus (__False Negative__ signal ; poor probe hybridization)\n",
    "        - __THEREFORE__, we must permit the possibility that ___all spatial coordinates___ detected for a particular locus are __noise__ and allowed to be __skipped__:"
   ]
  },
  {
   "cell_type": "code",
   "execution_count": 17,
   "id": "5416c3b4",
   "metadata": {
    "scrolled": false
   },
   "outputs": [
    {
     "data": {
      "application/vnd.jupyter.widget-view+json": {
       "model_id": "87a959a90d0a49c2978181f59617ea24",
       "version_major": 2,
       "version_minor": 0
      },
      "text/plain": [
       "interactive(children=(IntSlider(value=1, description='Slides : 4 /', max=4, min=1), Output()), _dom_classes=('…"
      ]
     },
     "metadata": {},
     "output_type": "display_data"
    }
   ],
   "source": [
    "wg.interact(polymer_skip, Slides=wg.IntSlider(min=1,max=4,step=1, description=\"Slides : {} /\".format(4)));"
   ]
  },
  {
   "cell_type": "markdown",
   "id": "9f9d0268",
   "metadata": {},
   "source": [
    "---\n",
    "- In the demo dataset, we illustrate an example where signals belonging to __t=2__ are seemingly out of place and not congruent with the expected spatial distance:"
   ]
  },
  {
   "cell_type": "code",
   "execution_count": 18,
   "id": "d7be6976",
   "metadata": {},
   "outputs": [
    {
     "data": {
      "text/plain": [
       "<mpl_toolkits.mplot3d.art3d.Path3DCollection at 0x7f54ac03bf70>"
      ]
     },
     "execution_count": 18,
     "metadata": {},
     "output_type": "execute_result"
    },
    {
     "data": {
      "image/png": "[encoded data removed]",
      "text/plain": [
       "<Figure size 1296x648 with 1 Axes>"
      ]
     },
     "metadata": {
      "needs_background": "light"
     },
     "output_type": "display_data"
    }
   ],
   "source": [
    "# plot\n",
    "fig = plt.figure(figsize = (18, 9))\n",
    "ax = fig.add_subplot(111, projection='3d')\n",
    "\n",
    "# Draw imaged loci\n",
    "cdict = {0:'Red', 1:'Green', 2:'Blue', 3:'Purple'}\n",
    "ax.scatter(df_data.loc[:, 'z_hat'],\n",
    "           df_data.loc[:, 'y_hat'],\n",
    "           df_data.loc[:, 'x_hat'],\n",
    "           c=[cdict[elem] for elem in df_data.t], alpha = 1, marker='^', s = 100)\n",
    "\n",
    "# Draw fiber\n",
    "ax.plot(df_fiber.loc[:, 'z_hat'], df_fiber.loc[:, 'y_hat'], df_fiber.loc[:, 'x_hat'], c='Blue', alpha = 0.3, label = 'DNA (unobserved)')\n",
    "\n",
    "# Draw true positive (true location)\n",
    "ax.scatter(df_data.loc[[15005, 15006], 'z_hat'],\n",
    "            df_data.loc[[15005, 15006], 'y_hat'],\n",
    "            df_data.loc[[15005, 15006], 'x_hat'],\n",
    "            alpha = 1, marker='o', s = 500, facecolors='none', edgecolors='r')"
   ]
  },
  {
   "cell_type": "markdown",
   "id": "41be8eb0",
   "metadata": {},
   "source": [
    "- In fact, this is reflected in the bond probabilities. If we evaluate the bond probabilities between every spatial candidate for `t=1` to `t=2` and `t=3`, we see that it would be more favourable for us to skip `t=2` and connect directly between `t=1` to `t=3`:"
   ]
  },
  {
   "cell_type": "code",
   "execution_count": 19,
   "id": "61241e9d",
   "metadata": {},
   "outputs": [
    {
     "data": {
      "image/png": "[encoded data removed]",
      "text/plain": [
       "<Figure size 360x216 with 1 Axes>"
      ]
     },
     "metadata": {
      "needs_background": "light"
     },
     "output_type": "display_data"
    }
   ],
   "source": [
    "fig, axs = plt.subplots(figsize = (5, 3))\n",
    "axs.imshow(ex_trans_prob_skip, cmap = 'plasma')\n",
    "plt.yticks(np.arange(3),[\"t=1;\\ni=0\", \"t=1;\\ni=1\", \"t=1;\\ni=2\"], fontsize = 18);\n",
    "plt.xticks(np.arange(5),[\"t=2;\\ni=0\", \"t=2;\\ni=1\", \"t=3;\\ni=0\", \"t=3;\\ni=1\", \"t=3;\\ni=2\"], fontsize = 18);"
   ]
  },
  {
   "cell_type": "markdown",
   "id": "d1855eb7",
   "metadata": {},
   "source": [
    "- The bond probabilities skipping `t=2` (`t=1` --> `t-3`) will incur a penalty, but this is still more favourable than linking any coordinate between `t=1`--> `t=2`:"
   ]
  },
  {
   "cell_type": "code",
   "execution_count": 20,
   "id": "d2b88a1d",
   "metadata": {},
   "outputs": [
    {
     "data": {
      "text/plain": [
       "array([[15.5, 15.2,  7.1,  7.4,  8.1],\n",
       "       [24.7, 24.6,  9.1,  9.8,  9.9],\n",
       "       [11.8, 11.3,  7.4,  6.9,  7.8]])"
      ]
     },
     "execution_count": 20,
     "metadata": {},
     "output_type": "execute_result"
    }
   ],
   "source": [
    "np.around(ex_trans_prob_skip, decimals = 1)"
   ]
  },
  {
   "cell_type": "markdown",
   "id": "51736dce",
   "metadata": {},
   "source": [
    "- So what if the starting locus is error prone (ie. all of the spatial coordinates belonging to the starting locus `t=0` are noise and need to be skipped)? \n",
    "- Likewise, what if the ending locus is error prone?\n",
    "    - We create a __single source__ that connects to spatial coordinates belonging to the first `num_skip` loci.\n",
    "    - We create a __single sink__ that connects to spatial coordinates belonging to the last `num_skip` loci.\n",
    "        - We create a \"pseudo\"-bond that incurs a cost of traveling a bond commensurate wtih the number of bonds skipped.\n",
    "            - This allows us to accomodate skipping the first and last few loci.\n",
    "            - We achieve this by \"padding\" the adjacency matrix to create an extra row for the source, and extra column for the sink.\n",
    "                - We populate \"pseudo\" bond probabilities using the function `jie.aligner.boundary_init`"
   ]
  },
  {
   "cell_type": "code",
   "execution_count": 21,
   "id": "f83791ae",
   "metadata": {},
   "outputs": [],
   "source": [
    "# calculate initial and terminal gap penalties\n",
    "trans_mat_pad = boundary_init(trans_mat=trans_mat,\n",
    "                              loci_dist=loci_dist, \n",
    "                              l_p_bp=l_p_bp,\n",
    "                              corr_fac=corr_fac,\n",
    "                              n_colours=n_colours,\n",
    "                              cell_pts=cell_pts,\n",
    "                              exp_stretch=exp_stretch,\n",
    "                              stretch_factor=stretch_factor,\n",
    "                              lim_init_skip=lim_init_skip,\n",
    "                              init_skip=init_skip,\n",
    "                              end_skip=end_skip)"
   ]
  },
  {
   "cell_type": "code",
   "execution_count": 22,
   "id": "f690de1a",
   "metadata": {},
   "outputs": [
    {
     "data": {
      "text/plain": [
       "Text(0.5, 1.0, 'After adding source, sink : \\nadj matrix shape (13, 13)')"
      ]
     },
     "execution_count": 22,
     "metadata": {},
     "output_type": "execute_result"
    },
    {
     "data": {
      "image/png": "[encoded data removed]",
      "text/plain": [
       "<Figure size 720x360 with 2 Axes>"
      ]
     },
     "metadata": {
      "needs_background": "light"
     },
     "output_type": "display_data"
    }
   ],
   "source": [
    "fig, axs = plt.subplots(1, 2, figsize = (10, 5))\n",
    "\n",
    "axs[0].imshow(trans_mat, cmap = 'plasma')\n",
    "axs[0].set_title(\"Before adding source, sink : \\nadj matrix shape {}\".format(trans_mat.shape))\n",
    "axs[1].imshow(trans_mat_pad, cmap = 'plasma')\n",
    "axs[1].set_title(\"After adding source, sink : \\nadj matrix shape {}\".format(trans_mat_pad.shape))"
   ]
  },
  {
   "cell_type": "markdown",
   "id": "55a990ab",
   "metadata": {},
   "source": [
    "- There is no penalty incurred by entering from source to any of the spatial coordinates belonging to the first locus `t=0`.\n",
    "- Similarly, there is no penalty incurred by exiting from any of the spatial coordinates belonging to the last locus `t=3` to the sink.\n",
    "\n",
    "---\n",
    "\n",
    "- With this adjacency matrix, we create a graph. \n",
    "    - We initialize the source and the sink (aka target). We seek to find the shortest graph traversal from source to sink."
   ]
  },
  {
   "cell_type": "code",
   "execution_count": 23,
   "id": "a48559eb",
   "metadata": {},
   "outputs": [
    {
     "data": {
      "application/vnd.jupyter.widget-view+json": {
       "model_id": "44b6611e429b4402894b764c127d85fe",
       "version_major": 2,
       "version_minor": 0
      },
      "text/plain": [
       "interactive(children=(IntSlider(value=1, description='Slides : 4 /', max=4, min=1), Output()), _dom_classes=('…"
      ]
     },
     "metadata": {},
     "output_type": "display_data"
    }
   ],
   "source": [
    "wg.interact(find_polymer, Slides=wg.IntSlider(min=1,max=4,step=1, description=\"Slides : {} /\".format(4)));"
   ]
  },
  {
   "cell_type": "code",
   "execution_count": 24,
   "id": "f92acb3e",
   "metadata": {},
   "outputs": [],
   "source": [
    "# create discrete state space model\n",
    "G = igraph.Graph.Adjacency((trans_mat_pad > 0).tolist())\n",
    "\n",
    "# add edge weights\n",
    "G.es['weight'] = trans_mat_pad[trans_mat_pad.nonzero()]\n",
    "\n",
    "\n",
    "# find shortest path (Dijkstra)\n",
    "shortest_path_length = G.shortest_paths(source = 0, \n",
    "                                        target = trans_mat_pad.shape[0]-1, \n",
    "                                        weights = 'weight')[0][0]\n",
    "## NB: path is written in index of FUTURE cell_pts dataframe (subsetted after iterative subtraction)\n",
    "shortest_path = [elem-1 for elem in G.get_shortest_paths(0, to = trans_mat_pad.shape[0]-1, \n",
    "                                                         weights = 'weight')[0][1:-1]]"
   ]
  },
  {
   "cell_type": "markdown",
   "id": "7ff2f929",
   "metadata": {},
   "source": [
    "- The path reflects the selected coordinates from the input that belong to the most likely polymer:"
   ]
  },
  {
   "cell_type": "code",
   "execution_count": 25,
   "id": "b150af03",
   "metadata": {},
   "outputs": [
    {
     "data": {
      "text/html": [
       "<div>\n",
       "<style scoped>\n",
       "    .dataframe tbody tr th:only-of-type {\n",
       "        vertical-align: middle;\n",
       "    }\n",
       "\n",
       "    .dataframe tbody tr th {\n",
       "        vertical-align: top;\n",
       "    }\n",
       "\n",
       "    .dataframe thead th {\n",
       "        text-align: right;\n",
       "    }\n",
       "</style>\n",
       "<table border=\"1\" class=\"dataframe\">\n",
       "  <thead>\n",
       "    <tr style=\"text-align: right;\">\n",
       "      <th></th>\n",
       "      <th>x_hat</th>\n",
       "      <th>y_hat</th>\n",
       "      <th>z_hat</th>\n",
       "      <th>Annot</th>\n",
       "      <th>hyb</th>\n",
       "      <th>i</th>\n",
       "      <th>bp</th>\n",
       "      <th>sig_x</th>\n",
       "      <th>sig_y</th>\n",
       "      <th>sig_z</th>\n",
       "    </tr>\n",
       "  </thead>\n",
       "  <tbody>\n",
       "    <tr>\n",
       "      <th>0</th>\n",
       "      <td>7.121910</td>\n",
       "      <td>7.182445</td>\n",
       "      <td>6.081194</td>\n",
       "      <td>TP</td>\n",
       "      <td>0</td>\n",
       "      <td>0</td>\n",
       "      <td>0</td>\n",
       "      <td>1</td>\n",
       "      <td>1</td>\n",
       "      <td>1</td>\n",
       "    </tr>\n",
       "    <tr>\n",
       "      <th>5000</th>\n",
       "      <td>8.345561</td>\n",
       "      <td>8.037631</td>\n",
       "      <td>5.236670</td>\n",
       "      <td>TP</td>\n",
       "      <td>1</td>\n",
       "      <td>0</td>\n",
       "      <td>5000</td>\n",
       "      <td>1</td>\n",
       "      <td>1</td>\n",
       "      <td>1</td>\n",
       "    </tr>\n",
       "    <tr>\n",
       "      <th>15000</th>\n",
       "      <td>5.277496</td>\n",
       "      <td>6.326657</td>\n",
       "      <td>5.903535</td>\n",
       "      <td>TP</td>\n",
       "      <td>3</td>\n",
       "      <td>0</td>\n",
       "      <td>15000</td>\n",
       "      <td>1</td>\n",
       "      <td>1</td>\n",
       "      <td>1</td>\n",
       "    </tr>\n",
       "  </tbody>\n",
       "</table>\n",
       "</div>"
      ],
      "text/plain": [
       "          x_hat     y_hat     z_hat Annot  hyb  i     bp  sig_x  sig_y  sig_z\n",
       "0      7.121910  7.182445  6.081194    TP    0  0      0      1      1      1\n",
       "5000   8.345561  8.037631  5.236670    TP    1  0   5000      1      1      1\n",
       "15000  5.277496  6.326657  5.903535    TP    3  0  15000      1      1      1"
      ]
     },
     "execution_count": 25,
     "metadata": {},
     "output_type": "execute_result"
    }
   ],
   "source": [
    "cell_pts_input.iloc[shortest_path]"
   ]
  },
  {
   "cell_type": "code",
   "execution_count": null,
   "id": "2fc9151b",
   "metadata": {},
   "outputs": [],
   "source": []
  }
 ],
 "metadata": {
  "kernelspec": {
   "display_name": "Python 3 (ipykernel)",
   "language": "python",
   "name": "python3"
  },
  "language_info": {
   "codemirror_mode": {
    "name": "ipython",
    "version": 3
   },
   "file_extension": ".py",
   "mimetype": "text/x-python",
   "name": "python",
   "nbconvert_exporter": "python",
   "pygments_lexer": "ipython3",
   "version": "3.8.8"
  }
 },
 "nbformat": 4,
 "nbformat_minor": 5
}
